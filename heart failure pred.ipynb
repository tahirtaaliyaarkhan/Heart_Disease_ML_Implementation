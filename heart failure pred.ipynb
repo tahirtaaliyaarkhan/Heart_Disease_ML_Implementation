{
 "cells": [
  {
   "cell_type": "markdown",
   "metadata": {},
   "source": [
    "## Heart Failure Supervised Learning Project\n",
    "This notebook uses a Kaggle databases containing 299 patient observations. The dataset shows different medical indicators a binary classification based on weather a given patient died of heart disease or not. The notebook imports the data, uses correlation analysis to select features from the dataset, and implements several supervised learning methods. The notebook concludes by comparing the performance of these models."
   ]
  },
  {
   "cell_type": "code",
   "execution_count": 133,
   "metadata": {},
   "outputs": [],
   "source": [
    "import pandas as pd\n",
    "import numpy as np\n",
    "import matplotlib.pyplot as plt\n",
    "%matplotlib inline"
   ]
  },
  {
   "cell_type": "code",
   "execution_count": 63,
   "metadata": {},
   "outputs": [
    {
     "data": {
      "text/html": [
       "<div>\n",
       "<style scoped>\n",
       "    .dataframe tbody tr th:only-of-type {\n",
       "        vertical-align: middle;\n",
       "    }\n",
       "\n",
       "    .dataframe tbody tr th {\n",
       "        vertical-align: top;\n",
       "    }\n",
       "\n",
       "    .dataframe thead th {\n",
       "        text-align: right;\n",
       "    }\n",
       "</style>\n",
       "<table border=\"1\" class=\"dataframe\">\n",
       "  <thead>\n",
       "    <tr style=\"text-align: right;\">\n",
       "      <th></th>\n",
       "      <th>age</th>\n",
       "      <th>anaemia</th>\n",
       "      <th>creatinine_phosphokinase</th>\n",
       "      <th>diabetes</th>\n",
       "      <th>ejection_fraction</th>\n",
       "      <th>high_blood_pressure</th>\n",
       "      <th>platelets</th>\n",
       "      <th>serum_creatinine</th>\n",
       "      <th>serum_sodium</th>\n",
       "      <th>sex</th>\n",
       "      <th>smoking</th>\n",
       "      <th>time</th>\n",
       "      <th>DEATH_EVENT</th>\n",
       "    </tr>\n",
       "  </thead>\n",
       "  <tbody>\n",
       "    <tr>\n",
       "      <th>0</th>\n",
       "      <td>75.0</td>\n",
       "      <td>0</td>\n",
       "      <td>582</td>\n",
       "      <td>0</td>\n",
       "      <td>20</td>\n",
       "      <td>1</td>\n",
       "      <td>265000.00</td>\n",
       "      <td>1.9</td>\n",
       "      <td>130</td>\n",
       "      <td>1</td>\n",
       "      <td>0</td>\n",
       "      <td>4</td>\n",
       "      <td>1</td>\n",
       "    </tr>\n",
       "    <tr>\n",
       "      <th>1</th>\n",
       "      <td>55.0</td>\n",
       "      <td>0</td>\n",
       "      <td>7861</td>\n",
       "      <td>0</td>\n",
       "      <td>38</td>\n",
       "      <td>0</td>\n",
       "      <td>263358.03</td>\n",
       "      <td>1.1</td>\n",
       "      <td>136</td>\n",
       "      <td>1</td>\n",
       "      <td>0</td>\n",
       "      <td>6</td>\n",
       "      <td>1</td>\n",
       "    </tr>\n",
       "    <tr>\n",
       "      <th>2</th>\n",
       "      <td>65.0</td>\n",
       "      <td>0</td>\n",
       "      <td>146</td>\n",
       "      <td>0</td>\n",
       "      <td>20</td>\n",
       "      <td>0</td>\n",
       "      <td>162000.00</td>\n",
       "      <td>1.3</td>\n",
       "      <td>129</td>\n",
       "      <td>1</td>\n",
       "      <td>1</td>\n",
       "      <td>7</td>\n",
       "      <td>1</td>\n",
       "    </tr>\n",
       "    <tr>\n",
       "      <th>3</th>\n",
       "      <td>50.0</td>\n",
       "      <td>1</td>\n",
       "      <td>111</td>\n",
       "      <td>0</td>\n",
       "      <td>20</td>\n",
       "      <td>0</td>\n",
       "      <td>210000.00</td>\n",
       "      <td>1.9</td>\n",
       "      <td>137</td>\n",
       "      <td>1</td>\n",
       "      <td>0</td>\n",
       "      <td>7</td>\n",
       "      <td>1</td>\n",
       "    </tr>\n",
       "    <tr>\n",
       "      <th>4</th>\n",
       "      <td>65.0</td>\n",
       "      <td>1</td>\n",
       "      <td>160</td>\n",
       "      <td>1</td>\n",
       "      <td>20</td>\n",
       "      <td>0</td>\n",
       "      <td>327000.00</td>\n",
       "      <td>2.7</td>\n",
       "      <td>116</td>\n",
       "      <td>0</td>\n",
       "      <td>0</td>\n",
       "      <td>8</td>\n",
       "      <td>1</td>\n",
       "    </tr>\n",
       "  </tbody>\n",
       "</table>\n",
       "</div>"
      ],
      "text/plain": [
       "    age  anaemia  creatinine_phosphokinase  diabetes  ejection_fraction  \\\n",
       "0  75.0        0                       582         0                 20   \n",
       "1  55.0        0                      7861         0                 38   \n",
       "2  65.0        0                       146         0                 20   \n",
       "3  50.0        1                       111         0                 20   \n",
       "4  65.0        1                       160         1                 20   \n",
       "\n",
       "   high_blood_pressure  platelets  serum_creatinine  serum_sodium  sex  \\\n",
       "0                    1  265000.00               1.9           130    1   \n",
       "1                    0  263358.03               1.1           136    1   \n",
       "2                    0  162000.00               1.3           129    1   \n",
       "3                    0  210000.00               1.9           137    1   \n",
       "4                    0  327000.00               2.7           116    0   \n",
       "\n",
       "   smoking  time  DEATH_EVENT  \n",
       "0        0     4            1  \n",
       "1        0     6            1  \n",
       "2        1     7            1  \n",
       "3        0     7            1  \n",
       "4        0     8            1  "
      ]
     },
     "execution_count": 63,
     "metadata": {},
     "output_type": "execute_result"
    }
   ],
   "source": [
    "#source for data: https://www.kaggle.com/andrewmvd/heart-failure-clinical-data\n",
    "heart_df = pd.read_csv('heart_failure_dataset.csv')\n",
    "heart_df.head()"
   ]
  },
  {
   "cell_type": "code",
   "execution_count": 134,
   "metadata": {},
   "outputs": [
    {
     "data": {
      "image/png": "[encoded data removed]",
      "text/plain": [
       "<Figure size 432x288 with 1 Axes>"
      ]
     },
     "metadata": {
      "needs_background": "light"
     },
     "output_type": "display_data"
    }
   ],
   "source": [
    "#dataset visualization\n",
    "plt.hist(heart_df['DEATH_EVENT'])\n",
    "plt.show()"
   ]
  },
  {
   "cell_type": "code",
   "execution_count": 65,
   "metadata": {},
   "outputs": [
    {
     "data": {
      "text/plain": [
       "age                         0.253729\n",
       "anaemia                     0.066270\n",
       "creatinine_phosphokinase    0.062728\n",
       "diabetes                   -0.001943\n",
       "ejection_fraction          -0.268603\n",
       "high_blood_pressure         0.079351\n",
       "platelets                  -0.049139\n",
       "serum_creatinine            0.294278\n",
       "serum_sodium               -0.195204\n",
       "sex                        -0.004316\n",
       "smoking                    -0.012623\n",
       "time                       -0.526964\n",
       "DEATH_EVENT                 1.000000\n",
       "Name: DEATH_EVENT, dtype: float64"
      ]
     },
     "execution_count": 65,
     "metadata": {},
     "output_type": "execute_result"
    }
   ],
   "source": [
    "#using correlations to choose features\n",
    "heart_df.corr()['DEATH_EVENT']"
   ]
  },
  {
   "cell_type": "code",
   "execution_count": 66,
   "metadata": {},
   "outputs": [
    {
     "data": {
      "text/plain": [
       "age                         0.450625\n",
       "anaemia                     0.127182\n",
       "creatinine_phosphokinase   -0.081070\n",
       "diabetes                   -0.045697\n",
       "ejection_fraction          -0.539440\n",
       "high_blood_pressure         0.158568\n",
       "platelets                  -0.152172\n",
       "serum_creatinine            0.658027\n",
       "serum_sodium               -0.497734\n",
       "sex                         0.021932\n",
       "smoking                    -0.042066\n",
       "time                       -0.824916\n",
       "DEATH_EVENT                 1.000000\n",
       "Name: DEATH_EVENT, dtype: float64"
      ]
     },
     "execution_count": 66,
     "metadata": {},
     "output_type": "execute_result"
    }
   ],
   "source": [
    "heart_df.corr(method='spearman').corr()['DEATH_EVENT']"
   ]
  },
  {
   "cell_type": "code",
   "execution_count": 67,
   "metadata": {},
   "outputs": [
    {
     "data": {
      "text/plain": [
       "(224, 75)"
      ]
     },
     "execution_count": 67,
     "metadata": {},
     "output_type": "execute_result"
    }
   ],
   "source": [
    "#define features and train/test sets\n",
    "from sklearn.model_selection import train_test_split\n",
    "from sklearn.metrics import accuracy_score, roc_auc_score\n",
    "feats = ['age', 'anaemia', 'ejection_fraction', 'serum_creatinine', 'serum_sodium', 'time', 'platelets', 'high_blood_pressure']\n",
    "X_train, X_test, y_train, y_test = train_test_split(heart_df.loc[:, feats], heart_df.iloc[:, -1])\n",
    "len(X_train), len(X_test)"
   ]
  },
  {
   "cell_type": "code",
   "execution_count": 93,
   "metadata": {},
   "outputs": [
    {
     "name": "stdout",
     "output_type": "stream",
     "text": [
      "Accuracy score, train:  0.5848214285714286 , test:  0.56\n",
      "\n",
      "AUC score, train:  0.5174380551659654 , test:  0.5289351851851851\n"
     ]
    }
   ],
   "source": [
    "#dummy classifier\n",
    "from sklearn.dummy import DummyClassifier\n",
    "dummy = DummyClassifier(strategy='stratified').fit(X_train, y_train)\n",
    "dummy_train_acc, dummy_test_acc = accuracy_score(y_train, dummy.predict(X_train)), accuracy_score(y_test, dummy.predict(X_test))\n",
    "dummy_train_auc, dummy_test_auc = roc_auc_score(y_train, dummy.predict(X_train)), roc_auc_score(y_test, dummy.predict(X_test))\n",
    "print('Accuracy score, train: ', dummy_train_acc, ', test: ', dummy_test_acc)\n",
    "print('\\nAUC score, train: ', dummy_train_auc, ', test: ', dummy_test_auc)"
   ]
  },
  {
   "cell_type": "code",
   "execution_count": 81,
   "metadata": {},
   "outputs": [
    {
     "name": "stdout",
     "output_type": "stream",
     "text": [
      "Accuracy score, train:  0.7321428571428571 , test:  0.64\n",
      "\n",
      "AUC score, train:  0.5772791023842917 , test:  0.5243055555555556\n"
     ]
    }
   ],
   "source": [
    "#k nearest neighbors model\n",
    "from sklearn.neighbors import KNeighborsClassifier\n",
    "knn = KNeighborsClassifier(n_neighbors=10).fit(X_train, y_train)\n",
    "knn_train_acc, knn_test_acc = accuracy_score(y_train, knn.predict(X_train)), accuracy_score(y_test, knn.predict(X_test))\n",
    "knn_train_auc, knn_test_auc = roc_auc_score(y_train, knn.predict(X_train)), roc_auc_score(y_test, knn.predict(X_test))\n",
    "print('Accuracy score, train: ', knn_train_acc, ', test: ', knn_test_acc)\n",
    "print('\\nAUC score, train: ', knn_train_auc, ', test: ', knn_test_auc)"
   ]
  },
  {
   "cell_type": "code",
   "execution_count": 80,
   "metadata": {},
   "outputs": [
    {
     "name": "stdout",
     "output_type": "stream",
     "text": [
      "Accuracy score, train:  0.8482142857142857 , test:  0.7866666666666666\n",
      "\n",
      "AUC score, train:  0.7978494623655914 , test:  0.7280092592592593\n"
     ]
    }
   ],
   "source": [
    "#logistic regression model\n",
    "from sklearn.linear_model import LogisticRegression\n",
    "logreg = LogisticRegression(C=4).fit(X_train, y_train)\n",
    "logreg_train_acc, logreg_test_acc = accuracy_score(y_train, logreg.predict(X_train)), accuracy_score(y_test, logreg.predict(X_test))\n",
    "logreg_train_auc, logreg_test_auc = roc_auc_score(y_train, logreg.predict(X_train)), roc_auc_score(y_test, logreg.predict(X_test))\n",
    "print('Accuracy score, train: ', logreg_train_acc, ', test: ', logreg_test_acc)\n",
    "print('\\nAUC score, train: ', logreg_train_auc, ', test: ', logreg_test_auc)"
   ]
  },
  {
   "cell_type": "code",
   "execution_count": 92,
   "metadata": {},
   "outputs": [
    {
     "name": "stdout",
     "output_type": "stream",
     "text": [
      "Accuracy score, train:  0.9910714285714286 , test:  0.84\n",
      "\n",
      "AUC score, train:  0.9855072463768115 , test:  0.7939814814814816\n"
     ]
    }
   ],
   "source": [
    "#random forest\n",
    "from sklearn.ensemble import RandomForestClassifier\n",
    "randfor = RandomForestClassifier(n_estimators=50, max_depth=10).fit(X_train, y_train)\n",
    "randfor_train_acc, randfor_test_acc = accuracy_score(y_train, randfor.predict(X_train)), accuracy_score(y_test, randfor.predict(X_test))\n",
    "randfor_train_auc, randfor_test_auc = roc_auc_score(y_train, randfor.predict(X_train)), roc_auc_score(y_test, randfor.predict(X_test))\n",
    "print('Accuracy score, train: ', randfor_train_acc, ', test: ', randfor_test_acc)\n",
    "print('\\nAUC score, train: ', randfor_train_auc, ', test: ', randfor_test_auc)"
   ]
  },
  {
   "cell_type": "code",
   "execution_count": 137,
   "metadata": {},
   "outputs": [
    {
     "data": {
      "image/png": "[encoded data removed]",
      "text/plain": [
       "<Figure size 432x288 with 1 Axes>"
      ]
     },
     "metadata": {
      "needs_background": "light"
     },
     "output_type": "display_data"
    }
   ],
   "source": [
    "#visualization of accuracy performance\n",
    "barwidth = 0.25\n",
    "bars1 = [dummy_train_acc, knn_train_acc, logreg_train_acc, randfor_train_acc]\n",
    "bars2 = [dummy_test_acc, knn_test_acc, logreg_test_acc, randfor_test_acc]\n",
    "x1 = np.arange(len(bars1))\n",
    "x2 = [i+barwidth for i in x1]\n",
    "plt.bar(x1, bars1, color='lightskyblue', width=barwidth)\n",
    "plt.bar(x2, bars2, color='palegreen', width=barwidth)\n",
    "plt.xticks(x2, ['Dummy', 'KNN', 'Logistic Reg', 'Random Forest'])\n",
    "plt.legend(['train score', 'test score'])\n",
    "plt.title('Accuracy Scores')\n",
    "plt.show()"
   ]
  },
  {
   "cell_type": "code",
   "execution_count": 139,
   "metadata": {},
   "outputs": [
    {
     "data": {
      "image/png": "[encoded data removed]",
      "text/plain": [
       "<Figure size 432x288 with 1 Axes>"
      ]
     },
     "metadata": {
      "needs_background": "light"
     },
     "output_type": "display_data"
    }
   ],
   "source": [
    "bars1 = [dummy_train_auc, knn_train_auc, logreg_train_auc, randfor_train_auc]\n",
    "bars2 = [dummy_test_acc, knn_test_auc, logreg_test_auc, randfor_test_auc]\n",
    "x1 = np.arange(len(bars1))\n",
    "x2 = [i+barwidth for i in x1]\n",
    "plt.bar(x1, bars1, color='lightskyblue', width=barwidth)\n",
    "plt.bar(x2, bars2, color='palegreen', width=barwidth)\n",
    "plt.xticks(x2, ['Dummy', 'KNN', 'Logistic Reg', 'Random Forest'])\n",
    "plt.legend(['train score', 'test score'])\n",
    "plt.title('AUC Scores')\n",
    "plt.show()"
   ]
  }
 ],
 "metadata": {
  "kernelspec": {
   "display_name": "Python 3",
   "language": "python",
   "name": "python3"
  },
  "language_info": {
   "codemirror_mode": {
    "name": "ipython",
    "version": 3
   },
   "file_extension": ".py",
   "mimetype": "text/x-python",
   "name": "python",
   "nbconvert_exporter": "python",
   "pygments_lexer": "ipython3",
   "version": "3.7.6"
  }
 },
 "nbformat": 4,
 "nbformat_minor": 4
}
